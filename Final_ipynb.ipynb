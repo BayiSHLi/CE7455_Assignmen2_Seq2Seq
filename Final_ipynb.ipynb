{
 "cells": [
  {
   "cell_type": "code",
   "execution_count": 1,
   "metadata": {
    "id": "IM8rcgktVoHV"
   },
   "outputs": [],
   "source": [
    "%matplotlib inline"
   ]
  },
  {
   "cell_type": "code",
   "execution_count": 2,
   "metadata": {
    "colab": {
     "base_uri": "https://localhost:8080/"
    },
    "id": "-h5JlZQn9H99",
    "outputId": "793fa98e-ab38-4a0d-9363-2461460c1041"
   },
   "outputs": [
    {
     "name": "stdout",
     "output_type": "stream",
     "text": [
      "Requirement already satisfied: torchmetrics in c:\\python312\\lib\\site-packages (1.7.0)\n",
      "Requirement already satisfied: numpy>1.20.0 in c:\\users\\sh li\\appdata\\roaming\\python\\python312\\site-packages (from torchmetrics) (2.1.2)\n",
      "Requirement already satisfied: packaging>17.1 in c:\\users\\sh li\\appdata\\roaming\\python\\python312\\site-packages (from torchmetrics) (24.2)\n",
      "Requirement already satisfied: torch>=2.0.0 in c:\\users\\sh li\\appdata\\roaming\\python\\python312\\site-packages (from torchmetrics) (2.6.0+cu124)\n",
      "Requirement already satisfied: lightning-utilities>=0.8.0 in c:\\python312\\lib\\site-packages (from torchmetrics) (0.14.3)\n",
      "Requirement already satisfied: setuptools in c:\\users\\sh li\\appdata\\roaming\\python\\python312\\site-packages (from lightning-utilities>=0.8.0->torchmetrics) (76.0.0)\n",
      "Requirement already satisfied: typing_extensions in c:\\users\\sh li\\appdata\\roaming\\python\\python312\\site-packages (from lightning-utilities>=0.8.0->torchmetrics) (4.12.2)\n",
      "Requirement already satisfied: filelock in c:\\users\\sh li\\appdata\\roaming\\python\\python312\\site-packages (from torch>=2.0.0->torchmetrics) (3.13.1)\n",
      "Requirement already satisfied: networkx in c:\\users\\sh li\\appdata\\roaming\\python\\python312\\site-packages (from torch>=2.0.0->torchmetrics) (3.3)\n",
      "Requirement already satisfied: jinja2 in c:\\users\\sh li\\appdata\\roaming\\python\\python312\\site-packages (from torch>=2.0.0->torchmetrics) (3.1.6)\n",
      "Requirement already satisfied: fsspec in c:\\users\\sh li\\appdata\\roaming\\python\\python312\\site-packages (from torch>=2.0.0->torchmetrics) (2024.6.1)\n",
      "Requirement already satisfied: sympy==1.13.1 in c:\\python312\\lib\\site-packages (from torch>=2.0.0->torchmetrics) (1.13.1)\n",
      "Requirement already satisfied: mpmath<1.4,>=1.1.0 in c:\\python312\\lib\\site-packages (from sympy==1.13.1->torch>=2.0.0->torchmetrics) (1.3.0)\n",
      "Requirement already satisfied: MarkupSafe>=2.0 in c:\\users\\sh li\\appdata\\roaming\\python\\python312\\site-packages (from jinja2->torch>=2.0.0->torchmetrics) (3.0.2)\n"
     ]
    }
   ],
   "source": [
    "!pip install torchmetrics"
   ]
  },
  {
   "cell_type": "markdown",
   "metadata": {
    "id": "XmKXEj7rMI9E"
   },
   "source": [
    "Translation with a Sequence to Sequence Network\n",
    "*************************************************************\n",
    "\n",
    "::\n",
    "\n",
    "    [KEY: > input, = target, < output]\n",
    "\n",
    "    > il est en train de peindre un tableau .\n",
    "    = he is painting a picture .\n",
    "    < he is painting a picture .\n",
    "\n",
    "    > pourquoi ne pas essayer ce vin delicieux ?\n",
    "    = why not try that delicious wine ?\n",
    "    < why not try that delicious wine ?\n",
    "\n",
    "    > elle n est pas poete mais romanciere .\n",
    "    = she is not a poet but a novelist .\n",
    "    < she not not a poet but a novelist .\n",
    "\n",
    "    > vous etes trop maigre .\n",
    "    = you re too skinny .\n",
    "    < you re all alone .\n",
    "\n",
    "... to varying degrees of success.\n",
    "\n",
    "This is made possible by the simple but powerful idea of the `sequence\n",
    "to sequence network <http://arxiv.org/abs/1409.3215>`__, in which two\n",
    "recurrent neural networks work together to transform one sequence to\n",
    "another. An encoder network condenses an input sequence into a vector,\n",
    "and a decoder network unfolds that vector into a new sequence.\n",
    "\n",
    ".. figure:: /_static/img/seq-seq-images/seq2seq.png\n",
    "   :alt:\n",
    "\n",
    "To improve upon this model we'll use an `attention\n",
    "mechanism <https://arxiv.org/abs/1409.0473>`__, which lets the decoder\n",
    "learn to focus over a specific range of the input sequence.\n",
    "\n",
    "**Recommended Reading:**\n",
    "\n",
    "I assume you have at least installed PyTorch, know Python, and\n",
    "understand Tensors:\n",
    "\n",
    "-  http://pytorch.org/ For installation instructions\n",
    "-  :doc:`/beginner/deep_learning_60min_blitz` to get started with PyTorch in general\n",
    "-  :doc:`/beginner/pytorch_with_examples` for a wide and deep overview\n",
    "-  :doc:`/beginner/former_torchies_tutorial` if you are former Lua Torch user\n",
    "\n",
    "\n",
    "It would also be useful to know about Sequence to Sequence networks and\n",
    "how they work:\n",
    "\n",
    "-  `Learning Phrase Representations using RNN Encoder-Decoder for\n",
    "   Statistical Machine Translation <http://arxiv.org/abs/1406.1078>`__\n",
    "-  `Sequence to Sequence Learning with Neural\n",
    "   Networks <http://arxiv.org/abs/1409.3215>`__\n",
    "-  `Neural Machine Translation by Jointly Learning to Align and\n",
    "   Translate <https://arxiv.org/abs/1409.0473>`__\n",
    "-  `A Neural Conversational Model <http://arxiv.org/abs/1506.05869>`__\n",
    "\n",
    "You will also find the previous tutorials on\n",
    ":doc:`/intermediate/char_rnn_classification_tutorial`\n",
    "and :doc:`/intermediate/char_rnn_generation_tutorial`\n",
    "helpful as those concepts are very similar to the Encoder and Decoder\n",
    "models, respectively.\n",
    "\n",
    "And for more, read the papers that introduced these topics:\n",
    "\n",
    "-  `Learning Phrase Representations using RNN Encoder-Decoder for\n",
    "   Statistical Machine Translation <http://arxiv.org/abs/1406.1078>`__\n",
    "-  `Sequence to Sequence Learning with Neural\n",
    "   Networks <http://arxiv.org/abs/1409.3215>`__\n",
    "-  `Neural Machine Translation by Jointly Learning to Align and\n",
    "   Translate <https://arxiv.org/abs/1409.0473>`__\n",
    "-  `A Neural Conversational Model <http://arxiv.org/abs/1506.05869>`__\n",
    "\n",
    "\n",
    "**Requirements**\n",
    "\n"
   ]
  },
  {
   "cell_type": "markdown",
   "metadata": {
    "id": "OrgMvmAeMI9J"
   },
   "source": [
    "Loading data files\n",
    "==================\n",
    "\n",
    "The data for this project is a set of many thousands of English to\n",
    "French translation pairs.\n",
    "\n",
    "`This question on Open Data Stack\n",
    "Exchange <http://opendata.stackexchange.com/questions/3888/dataset-of-sentences-translated-into-many-languages>`__\n",
    "pointed me to the open translation site http://tatoeba.org/ which has\n",
    "downloads available at http://tatoeba.org/eng/downloads - and better\n",
    "yet, someone did the extra work of splitting language pairs into\n",
    "individual text files here: http://www.manythings.org/anki/\n",
    "\n",
    "The English to French pairs are too big to include in the repo, so\n",
    "download to ``data/eng-fra.txt`` before continuing. The file is a tab\n",
    "separated list of translation pairs:\n",
    "\n",
    "::\n",
    "\n",
    "    I am cold.    J'ai froid.\n",
    "\n",
    ".. Note::\n",
    "   Download the data from\n",
    "   `here <https://download.pytorch.org/tutorial/data.zip>`_\n",
    "   and extract it to the current directory.\n",
    "\n"
   ]
  },
  {
   "cell_type": "code",
   "execution_count": 4,
   "metadata": {
    "colab": {
     "base_uri": "https://localhost:8080/"
    },
    "id": "AUGpVT3MC9ZA",
    "outputId": "0bc15c10-54ec-4620-9de8-f4a6968b4697"
   },
   "outputs": [
    {
     "name": "stderr",
     "output_type": "stream",
     "text": [
      "--2025-04-08 12:57:26--  http://www.manythings.org/anki/fra-eng.zip\n",
      "Resolving www.manythings.org (www.manythings.org)... 173.254.30.110\n",
      "Connecting to www.manythings.org (www.manythings.org)|173.254.30.110|:80... connected.\n",
      "HTTP request sent, awaiting response... 200 OK\n",
      "Length: 7943074 (7.6M) [application/zip]\n",
      "Saving to: 'fra-eng.zip'\n",
      "\n",
      "     0K .......... .......... .......... .......... ..........  0%  111K 69s\n",
      "    50K .......... .......... .......... .......... ..........  1%  213K 52s\n",
      "   100K .......... .......... .......... .......... ..........  1%  127M 35s\n",
      "   150K .......... .......... .......... .......... ..........  2% 49.7M 26s\n",
      "   200K .......... .......... .......... .......... ..........  3%  219K 27s\n",
      "   250K .......... .......... .......... .......... ..........  3%  119M 23s\n",
      "   300K .......... .......... .......... .......... ..........  4% 84.1M 19s\n",
      "   350K .......... .......... .......... .......... ..........  5%  954G 17s\n",
      "   400K .......... .......... .......... .......... ..........  5%  239K 18s\n",
      "   450K .......... .......... .......... .......... ..........  6%  122M 16s\n",
      "   500K .......... .......... .......... .......... ..........  7% 66.1M 15s\n",
      "   550K .......... .......... .......... .......... ..........  7%  111M 13s\n",
      "   600K .......... .......... .......... .......... ..........  8% 5.14M 12s\n",
      "   650K .......... .......... .......... .......... ..........  9%  184M 11s\n",
      "   700K .......... .......... .......... .......... ..........  9%  126M 11s\n",
      "   750K .......... .......... .......... .......... .......... 10%  113M 10s\n",
      "   800K .......... .......... .......... .......... .......... 10%  248K 11s\n",
      "   850K .......... .......... .......... .......... .......... 11%  148M 10s\n",
      "   900K .......... .......... .......... .......... .......... 12%  167M 10s\n",
      "   950K .......... .......... .......... .......... .......... 12%  119M 9s\n",
      "  1000K .......... .......... .......... .......... .......... 13% 1.36M 9s\n",
      "  1050K .......... .......... .......... .......... .......... 14% 3.94M 8s\n",
      "  1100K .......... .......... .......... .......... .......... 14% 86.8M 8s\n",
      "  1150K .......... .......... .......... .......... .......... 15%  208M 8s\n",
      "  1200K .......... .......... .......... .......... .......... 16%  113M 7s\n",
      "  1250K .......... .......... .......... .......... .......... 16%  954G 7s\n",
      "  1300K .......... .......... .......... .......... .......... 17%  163M 7s\n",
      "  1350K .......... .......... .......... .......... .......... 18%  132M 6s\n",
      "  1400K .......... .......... .......... .......... .......... 18% 20.8M 6s\n",
      "  1450K .......... .......... .......... .......... .......... 19%  138M 6s\n",
      "  1500K .......... .......... .......... .......... .......... 19%  127M 6s\n",
      "  1550K .......... .......... .......... .......... .......... 20%  137M 5s\n",
      "  1600K .......... .......... .......... .......... .......... 21% 61.8M 5s\n",
      "  1650K .......... .......... .......... .......... .......... 21% 99.8M 5s\n",
      "  1700K .......... .......... .......... .......... .......... 22%  313K 5s\n",
      "  1750K .......... .......... .......... .......... .......... 23% 59.2M 5s\n",
      "  1800K .......... .......... .......... .......... .......... 23% 99.9M 5s\n",
      "  1850K .......... .......... .......... .......... .......... 24%  144M 5s\n",
      "  1900K .......... .......... .......... .......... .......... 25% 76.7M 5s\n",
      "  1950K .......... .......... .......... .......... .......... 25%  133M 4s\n",
      "  2000K .......... .......... .......... .......... .......... 26%  149M 4s\n",
      "  2050K .......... .......... .......... .......... .......... 27% 1.10M 4s\n",
      "  2100K .......... .......... .......... .......... .......... 27%  161M 4s\n",
      "  2150K .......... .......... .......... .......... .......... 28% 97.6M 4s\n",
      "  2200K .......... .......... .......... .......... .......... 29%  153M 4s\n",
      "  2250K .......... .......... .......... .......... .......... 29%  211M 4s\n",
      "  2300K .......... .......... .......... .......... .......... 30%  206M 4s\n",
      "  2350K .......... .......... .......... .......... .......... 30%  148M 4s\n",
      "  2400K .......... .......... .......... .......... .......... 31%  171M 3s\n",
      "  2450K .......... .......... .......... .......... .......... 32% 28.8M 3s\n",
      "  2500K .......... .......... .......... .......... .......... 32%  107M 3s\n",
      "  2550K .......... .......... .......... .......... .......... 33%  160M 3s\n",
      "  2600K .......... .......... .......... .......... .......... 34% 36.0M 3s\n",
      "  2650K .......... .......... .......... .......... .......... 34% 90.7M 3s\n",
      "  2700K .......... .......... .......... .......... .......... 35%  123M 3s\n",
      "  2750K .......... .......... .......... .......... .......... 36%  212M 3s\n",
      "  2800K .......... .......... .......... .......... .......... 36% 11.8M 3s\n",
      "  2850K .......... .......... .......... .......... .......... 37%  155M 3s\n",
      "  2900K .......... .......... .......... .......... .......... 38% 21.1M 3s\n",
      "  2950K .......... .......... .......... .......... .......... 38% 12.9M 3s\n",
      "  3000K .......... .......... .......... .......... .......... 39% 21.6M 3s\n",
      "  3050K .......... .......... .......... .......... .......... 39% 27.2M 2s\n",
      "  3100K .......... .......... .......... .......... .......... 40% 19.2M 2s\n",
      "  3150K .......... .......... .......... .......... .......... 41% 13.2M 2s\n",
      "  3200K .......... .......... .......... .......... .......... 41% 17.4M 2s\n",
      "  3250K .......... .......... .......... .......... .......... 42% 9.77M 2s\n",
      "  3300K .......... .......... .......... .......... .......... 43%  169M 2s\n",
      "  3350K .......... .......... .......... .......... .......... 43% 11.4M 2s\n",
      "  3400K .......... .......... .......... .......... .......... 44%  400K 2s\n",
      "  3450K .......... .......... .......... .......... .......... 45%  133M 2s\n",
      "  3500K .......... .......... .......... .......... .......... 45%  119M 2s\n",
      "  3550K .......... .......... .......... .......... .......... 46% 24.3M 2s\n",
      "  3600K .......... .......... .......... .......... .......... 47%  131M 2s\n",
      "  3650K .......... .......... .......... .......... .......... 47%  954G 2s\n",
      "  3700K .......... .......... .......... .......... .......... 48% 98.3M 2s\n",
      "  3750K .......... .......... .......... .......... .......... 48%  164M 2s\n",
      "  3800K .......... .......... .......... .......... .......... 49%  131M 2s\n",
      "  3850K .......... .......... .......... .......... .......... 50% 37.4M 2s\n",
      "  3900K .......... .......... .......... .......... .......... 50%  187M 2s\n",
      "  3950K .......... .......... .......... .......... .......... 51%  222M 2s\n",
      "  4000K .......... .......... .......... .......... .......... 52% 1.04M 2s\n",
      "  4050K .......... .......... .......... .......... .......... 52% 78.8M 2s\n",
      "  4100K .......... .......... .......... .......... .......... 53% 4.76M 2s\n",
      "  4150K .......... .......... .......... .......... .......... 54%  184M 2s\n",
      "  4200K .......... .......... .......... .......... .......... 54% 23.5M 2s\n",
      "  4250K .......... .......... .......... .......... .......... 55%  163M 1s\n",
      "  4300K .......... .......... .......... .......... .......... 56% 19.7M 1s\n",
      "  4350K .......... .......... .......... .......... .......... 56%  163M 1s\n",
      "  4400K .......... .......... .......... .......... .......... 57%  141M 1s\n",
      "  4450K .......... .......... .......... .......... .......... 58%  113M 1s\n",
      "  4500K .......... .......... .......... .......... .......... 58%  954G 1s\n",
      "  4550K .......... .......... .......... .......... .......... 59% 86.5M 1s\n",
      "  4600K .......... .......... .......... .......... .......... 59%  118M 1s\n",
      "  4650K .......... .......... .......... .......... .......... 60%  110M 1s\n",
      "  4700K .......... .......... .......... .......... .......... 61%  128M 1s\n",
      "  4750K .......... .......... .......... .......... .......... 61%  126M 1s\n",
      "  4800K .......... .......... .......... .......... .......... 62% 15.9M 1s\n",
      "  4850K .......... .......... .......... .......... .......... 63% 76.3M 1s\n",
      "  4900K .......... .......... .......... .......... .......... 63%  137M 1s\n",
      "  4950K .......... .......... .......... .......... .......... 64% 69.1M 1s\n",
      "  5000K .......... .......... .......... .......... .......... 65% 79.8M 1s\n",
      "  5050K .......... .......... .......... .......... .......... 65% 61.3M 1s\n",
      "  5100K .......... .......... .......... .......... .......... 66%  132M 1s\n",
      "  5150K .......... .......... .......... .......... .......... 67% 4.42M 1s\n",
      "  5200K .......... .......... .......... .......... .......... 67%  111M 1s\n",
      "  5250K .......... .......... .......... .......... .......... 68%  288M 1s\n",
      "  5300K .......... .......... .......... .......... .......... 68%  186M 1s\n",
      "  5350K .......... .......... .......... .......... .......... 69% 13.6M 1s\n",
      "  5400K .......... .......... .......... .......... .......... 70%  126M 1s\n",
      "  5450K .......... .......... .......... .......... .......... 70%  411K 1s\n",
      "  5500K .......... .......... .......... .......... .......... 71% 33.4M 1s\n",
      "  5550K .......... .......... .......... .......... .......... 72% 73.5M 1s\n",
      "  5600K .......... .......... .......... .......... .......... 72%  131M 1s\n",
      "  5650K .......... .......... .......... .......... .......... 73%  161M 1s\n",
      "  5700K .......... .......... .......... .......... .......... 74% 53.1M 1s\n",
      "  5750K .......... .......... .......... .......... .......... 74%  181M 1s\n",
      "  5800K .......... .......... .......... .......... .......... 75%  225M 1s\n",
      "  5850K .......... .......... .......... .......... .......... 76% 20.0M 1s\n",
      "  5900K .......... .......... .......... .......... .......... 76% 96.3M 1s\n",
      "  5950K .......... .......... .......... .......... .......... 77% 99.8M 1s\n",
      "  6000K .......... .......... .......... .......... .......... 77% 1.49M 1s\n",
      "  6050K .......... .......... .......... .......... .......... 78% 6.14M 1s\n",
      "  6100K .......... .......... .......... .......... .......... 79% 33.8M 1s\n",
      "  6150K .......... .......... .......... .......... .......... 79% 1.66M 1s\n",
      "  6200K .......... .......... .......... .......... .......... 80%  185M 0s\n",
      "  6250K .......... .......... .......... .......... .......... 81%  225M 0s\n",
      "  6300K .......... .......... .......... .......... .......... 81%  106M 0s\n",
      "  6350K .......... .......... .......... .......... .......... 82%  216M 0s\n",
      "  6400K .......... .......... .......... .......... .......... 83% 29.5M 0s\n",
      "  6450K .......... .......... .......... .......... .......... 83%  177M 0s\n",
      "  6500K .......... .......... .......... .......... .......... 84%  204M 0s\n",
      "  6550K .......... .......... .......... .......... .......... 85% 72.4M 0s\n",
      "  6600K .......... .......... .......... .......... .......... 85%  134M 0s\n",
      "  6650K .......... .......... .......... .......... .......... 86% 85.5M 0s\n",
      "  6700K .......... .......... .......... .......... .......... 87%  152M 0s\n",
      "  6750K .......... .......... .......... .......... .......... 87% 37.4M 0s\n",
      "  6800K .......... .......... .......... .......... .......... 88%  169M 0s\n",
      "  6850K .......... .......... .......... .......... .......... 88%  185M 0s\n",
      "  6900K .......... .......... .......... .......... .......... 89% 37.0M 0s\n",
      "  6950K .......... .......... .......... .......... .......... 90%  139M 0s\n",
      "  7000K .......... .......... .......... .......... .......... 90%  189M 0s\n",
      "  7050K .......... .......... .......... .......... .......... 91%  189M 0s\n",
      "  7100K .......... .......... .......... .......... .......... 92% 38.6M 0s\n",
      "  7150K .......... .......... .......... .......... .......... 92% 81.5M 0s\n",
      "  7200K .......... .......... .......... .......... .......... 93%  150M 0s\n",
      "  7250K .......... .......... .......... .......... .......... 94% 45.5M 0s\n",
      "  7300K .......... .......... .......... .......... .......... 94%  105M 0s\n",
      "  7350K .......... .......... .......... .......... .......... 95% 40.1M 0s\n",
      "  7400K .......... .......... .......... .......... .......... 96%  140M 0s\n",
      "  7450K .......... .......... .......... .......... .......... 96% 47.9M 0s\n",
      "  7500K .......... .......... .......... .......... .......... 97%  111M 0s\n",
      "  7550K .......... .......... .......... .......... .......... 97%  402K 0s\n",
      "  7600K .......... .......... .......... .......... .......... 98%  136M 0s\n",
      "  7650K .......... .......... .......... .......... .......... 99%  138M 0s\n",
      "  7700K .......... .......... .......... .......... .......... 99%  155M 0s\n",
      "  7750K ......                                                100%  132G=2.2s\n",
      "\n",
      "2025-04-08 12:57:29 (3.44 MB/s) - 'fra-eng.zip' saved [7943074/7943074]\n",
      "\n"
     ]
    },
    {
     "name": "stdout",
     "output_type": "stream",
     "text": [
      "Archive:  fra-eng.zip\n",
      "  inflating: _about.txt              \n",
      "  inflating: fra.txt                 \n"
     ]
    }
   ],
   "source": [
    "!wget http://www.manythings.org/anki/fra-eng.zip\n",
    "!unzip -o fra-eng.zip\n",
    "!mkdir data\n",
    "!mv fra.txt data/eng-fra.txt"
   ]
  },
  {
   "cell_type": "code",
   "execution_count": 3,
   "metadata": {
    "id": "RZKd8K4BfBM1"
   },
   "outputs": [],
   "source": [
    "from __future__ import unicode_literals, print_function, division\n",
    "from io import open\n",
    "import unicodedata\n",
    "import string\n",
    "import re\n",
    "import random\n",
    "SOS_token = 0\n",
    "EOS_token = 1\n",
    "\n",
    "\n",
    "class Lang:\n",
    "    def __init__(self, name):\n",
    "        self.name = name\n",
    "        self.word2index = {}\n",
    "        self.word2count = {}\n",
    "        self.index2word = {0: \"SOS\", 1: \"EOS\"}\n",
    "        self.n_words = 2  # Count SOS and EOS\n",
    "\n",
    "    def addSentence(self, sentence):\n",
    "        for word in sentence.split(' '):\n",
    "            self.addWord(word)\n",
    "\n",
    "    def addWord(self, word):\n",
    "        if word not in self.word2index:\n",
    "            self.word2index[word] = self.n_words\n",
    "            self.word2count[word] = 1\n",
    "            self.index2word[self.n_words] = word\n",
    "            self.n_words += 1\n",
    "        else:\n",
    "            self.word2count[word] += 1\n",
    "import torch\n",
    "import torch.nn as nn\n",
    "from torch import optim\n",
    "import torch.nn.functional as F\n",
    "\n",
    "device = torch.device(\"cuda\" if torch.cuda.is_available() else \"cpu\")"
   ]
  },
  {
   "cell_type": "markdown",
   "metadata": {
    "id": "IQpwb8giMI9S"
   },
   "source": [
    "The files are all in Unicode, to simplify we will turn Unicode\n",
    "characters to ASCII, make everything lowercase, and trim most\n",
    "punctuation.\n",
    "\n",
    "\n"
   ]
  },
  {
   "cell_type": "code",
   "execution_count": 4,
   "metadata": {
    "id": "WtFJGPPytPV4"
   },
   "outputs": [],
   "source": [
    "# Turn a Unicode string to plain ASCII, thanks to\n",
    "# http://stackoverflow.com/a/518232/2809427\n",
    "def unicodeToAscii(s):\n",
    "    return ''.join(\n",
    "        c for c in unicodedata.normalize('NFD', s)\n",
    "        if unicodedata.category(c) != 'Mn'\n",
    "    )\n",
    "\n",
    "# Lowercase, trim, and remove non-letter characters\n",
    "\n",
    "\n",
    "def normalizeString(s):\n",
    "    s = unicodeToAscii(s.lower().strip())\n",
    "    s = re.sub(r\"([.!?])\", r\" \\1\", s)\n",
    "    s = re.sub(r\"[^a-zA-Z.!?]+\", r\" \", s)\n",
    "    return s"
   ]
  },
  {
   "cell_type": "markdown",
   "metadata": {
    "id": "49xLMyaYMI9X"
   },
   "source": [
    "To read the data file we will split the file into lines, and then split\n",
    "lines into pairs. The files are all English → Other Language, so if we\n",
    "want to translate from Other Language → English I added the ``reverse``\n",
    "flag to reverse the pairs.\n",
    "\n",
    "\n"
   ]
  },
  {
   "cell_type": "code",
   "execution_count": 5,
   "metadata": {
    "id": "AVZyk7glkhZ2"
   },
   "outputs": [],
   "source": [
    "def readLangs(lang1, lang2, reverse=False):\n",
    "    print(\"Reading lines...\")\n",
    "\n",
    "    # Read the file and split into lines\n",
    "    lines = open('data/%s-%s.txt' % (lang1, lang2), encoding='utf-8').\\\n",
    "        read().strip().split('\\n')\n",
    "\n",
    "    # Split every line into pairs and normalize\n",
    "    pairs = [[normalizeString(s) for s in l.split('\\t')[:2]] for l in lines]\n",
    "\n",
    "    # Reverse pairs, make Lang instances\n",
    "    if reverse:\n",
    "        pairs = [list(reversed(p)) for p in pairs]\n",
    "        input_lang = Lang(lang2)\n",
    "        output_lang = Lang(lang1)\n",
    "    else:\n",
    "        input_lang = Lang(lang1)\n",
    "        output_lang = Lang(lang2)\n",
    "\n",
    "    return input_lang, output_lang, pairs"
   ]
  },
  {
   "cell_type": "markdown",
   "metadata": {
    "id": "_QGX-Ffq6Iii"
   },
   "source": [
    "Since there are a *lot* of example sentences and we want to train\n",
    "something quickly, we'll trim the data set to only relatively short and\n",
    "simple sentences. Here the maximum length is 10 words (that includes\n",
    "ending punctuation) and we're filtering to sentences that translate to\n",
    "the form \"I am\" or \"He is\" etc. (accounting for apostrophes replaced\n",
    "earlier).\n",
    "\n",
    "\n"
   ]
  },
  {
   "cell_type": "code",
   "execution_count": 6,
   "metadata": {
    "id": "8t1N5cYalfJS"
   },
   "outputs": [],
   "source": [
    "MAX_LENGTH = 15\n",
    "\n",
    "eng_prefixes = (\n",
    "    \"i am\", \"i m\",\n",
    "    \"he is\", \"he s\",\n",
    "    \"she is\", \"she s\",\n",
    "    \"you are\", \"you re\",\n",
    "    \"we are\", \"we re\",\n",
    "    \"they are\", \"they re\"\n",
    ")\n",
    "\n",
    "\n",
    "def filterPair(p):\n",
    "    return len(p[0].split(' ')) < MAX_LENGTH and \\\n",
    "        len(p[1].split(' ')) < MAX_LENGTH and \\\n",
    "        p[1].startswith(eng_prefixes)\n",
    "\n",
    "\n",
    "def filterPairs(pairs):\n",
    "    return [pair for pair in pairs if filterPair(pair)]"
   ]
  },
  {
   "cell_type": "markdown",
   "metadata": {
    "id": "6A4Kf_ie6Jyr"
   },
   "source": [
    "The full process for preparing the data is:\n",
    "\n",
    "-  Read text file and split into lines, split lines into pairs\n",
    "-  Normalize text, filter by length and content\n",
    "-  Make word lists from sentences in pairs\n",
    "\n",
    "\n"
   ]
  },
  {
   "cell_type": "code",
   "execution_count": 7,
   "metadata": {
    "colab": {
     "base_uri": "https://localhost:8080/"
    },
    "id": "YnGQl472lg0-",
    "outputId": "e7693919-fe47-4fa1-fef6-414c7f43c767"
   },
   "outputs": [
    {
     "name": "stdout",
     "output_type": "stream",
     "text": [
      "Reading lines...\n",
      "Read 232736 sentence pairs\n",
      "Trimmed to 22907 sentence pairs\n",
      "Counting words...\n",
      "Counted words:\n",
      "fra 7019\n",
      "eng 4638\n"
     ]
    }
   ],
   "source": [
    "def prepareData(lang1, lang2, reverse=False):\n",
    "    input_lang, output_lang, pairs = readLangs(lang1, lang2, reverse)\n",
    "    print(\"Read %s sentence pairs\" % len(pairs))\n",
    "    pairs = filterPairs(pairs)\n",
    "    print(\"Trimmed to %s sentence pairs\" % len(pairs))\n",
    "    print(\"Counting words...\")\n",
    "    for pair in pairs:\n",
    "        input_lang.addSentence(pair[0])\n",
    "        output_lang.addSentence(pair[1])\n",
    "    print(\"Counted words:\")\n",
    "    print(input_lang.name, input_lang.n_words)\n",
    "    print(output_lang.name, output_lang.n_words)\n",
    "    return input_lang, output_lang, pairs\n",
    "\n",
    "\n",
    "input_lang, output_lang, pairs = prepareData('eng', 'fra', True)\n",
    "#print(random.choice(pairs))"
   ]
  },
  {
   "cell_type": "code",
   "execution_count": 8,
   "metadata": {
    "id": "Tt6luSw3ym6k"
   },
   "outputs": [],
   "source": [
    "from sklearn.model_selection import train_test_split"
   ]
  },
  {
   "cell_type": "code",
   "execution_count": 9,
   "metadata": {
    "id": "R50-9amYytmD"
   },
   "outputs": [],
   "source": [
    "X = [i[0] for i in pairs]\n",
    "y = [i[1] for i in pairs]"
   ]
  },
  {
   "cell_type": "code",
   "execution_count": 10,
   "metadata": {
    "id": "Ej3a3AvYyoI1"
   },
   "outputs": [],
   "source": [
    "X_train, X_test, y_train, y_test = train_test_split(X, y, test_size=0.1, random_state=42)"
   ]
  },
  {
   "cell_type": "code",
   "execution_count": 11,
   "metadata": {
    "id": "X-69f4nmy5ph"
   },
   "outputs": [],
   "source": [
    "train_pairs = list(zip(X_train,y_train))\n",
    "test_pairs = list(zip(X_test,y_test))"
   ]
  },
  {
   "cell_type": "markdown",
   "metadata": {
    "id": "8XxL347dMI9p"
   },
   "source": [
    "The Seq2Seq Model\n",
    "=================\n",
    "\n",
    "A Recurrent Neural Network, or RNN, is a network that operates on a\n",
    "sequence and uses its own output as input for subsequent steps.\n",
    "\n",
    "A `Sequence to Sequence network <http://arxiv.org/abs/1409.3215>`__, or\n",
    "seq2seq network, or `Encoder Decoder\n",
    "network <https://arxiv.org/pdf/1406.1078v3.pdf>`__, is a model\n",
    "consisting of two RNNs called the encoder and decoder. The encoder reads\n",
    "an input sequence and outputs a single vector, and the decoder reads\n",
    "that vector to produce an output sequence.\n",
    "\n",
    "Unlike sequence prediction with a single RNN, where every input\n",
    "corresponds to an output, the seq2seq model frees us from sequence\n",
    "length and order, which makes it ideal for translation between two\n",
    "languages.\n",
    "\n",
    "Consider the sentence \"Je ne suis pas le chat noir\" → \"I am not the\n",
    "black cat\". Most of the words in the input sentence have a direct\n",
    "translation in the output sentence, but are in slightly different\n",
    "orders, e.g. \"chat noir\" and \"black cat\". Because of the \"ne/pas\"\n",
    "construction there is also one more word in the input sentence. It would\n",
    "be difficult to produce a correct translation directly from the sequence\n",
    "of input words.\n",
    "\n",
    "With a seq2seq model the encoder creates a single vector which, in the\n",
    "ideal case, encodes the \"meaning\" of the input sequence into a single\n",
    "vector — a single point in some N dimensional space of sentences.\n",
    "\n",
    "\n"
   ]
  },
  {
   "cell_type": "markdown",
   "metadata": {
    "id": "-YkUkdswMI9q"
   },
   "source": [
    "The Encoder\n",
    "-----------\n",
    "\n",
    "The encoder of a seq2seq network is a RNN that outputs some value for\n",
    "every word from the input sentence. For every input word the encoder\n",
    "outputs a vector and a hidden state, and uses the hidden state for the\n",
    "next input word.\n",
    "\n",
    "\n",
    "\n",
    "\n"
   ]
  },
  {
   "cell_type": "code",
   "execution_count": 12,
   "metadata": {
    "id": "O0aZQW30liTF"
   },
   "outputs": [],
   "source": [
    "class EncoderRNN(nn.Module):\n",
    "    def __init__(self, input_size, hidden_size):\n",
    "        super(EncoderRNN, self).__init__()\n",
    "        self.hidden_size = hidden_size\n",
    "\n",
    "        self.embedding = nn.Embedding(input_size, hidden_size)\n",
    "        self.gru = nn.GRU(hidden_size, hidden_size)\n",
    "\n",
    "    def forward(self, input, hidden):\n",
    "        embedded = self.embedding(input).view(1, 1, -1)\n",
    "        output = embedded\n",
    "        output, hidden = self.gru(output, hidden)\n",
    "        return output, hidden\n",
    "\n",
    "    def initHidden(self):\n",
    "        return torch.zeros(1, 1, self.hidden_size, device=device)"
   ]
  },
  {
   "cell_type": "markdown",
   "metadata": {
    "id": "TvouslB-MI9t"
   },
   "source": [
    "The Decoder (Your assignment)\n",
    "-----------\n",
    "\n",
    "The decoder is another RNN that takes the encoder output vector(s) and\n",
    "outputs a sequence of words to create the translation.\n",
    "\n",
    "\n"
   ]
  },
  {
   "cell_type": "markdown",
   "metadata": {
    "id": "ccvXiDVAMI9u"
   },
   "source": [
    "Simple Decoder\n",
    "^^^^^^^^^^^^^^\n",
    "\n",
    "In the simplest seq2seq decoder we use only last output of the encoder.\n",
    "This last output is sometimes called the *context vector* as it encodes\n",
    "context from the entire sequence. This context vector is used as the\n",
    "initial hidden state of the decoder.\n",
    "\n",
    "At every step of decoding, the decoder is given an input token and\n",
    "hidden state. The initial input token is the start-of-string ``<SOS>``\n",
    "token, and the first hidden state is the context vector (the encoder's\n",
    "last hidden state).\n"
   ]
  },
  {
   "cell_type": "code",
   "execution_count": 13,
   "metadata": {
    "id": "DNY63vmP7pZT"
   },
   "outputs": [],
   "source": [
    "class Decoder(nn.Module):\n",
    "    def __init__(self, hidden_size, output_size):\n",
    "        super(Decoder, self).__init__()\n",
    "        self.hidden_size = hidden_size\n",
    "\n",
    "        self.embedding = nn.Embedding(output_size, hidden_size)\n",
    "        self.gru = nn.GRU(hidden_size, hidden_size)\n",
    "        self.out = nn.Linear(hidden_size, output_size)\n",
    "        self.softmax = nn.LogSoftmax(dim=1)\n",
    "\n",
    "    def forward(self, input, hidden):\n",
    "\n",
    "        # Your code here #\n",
    "        output = self.embedding(input).view(1, 1, -1)\n",
    "        output = F.relu(output)\n",
    "        output, hidden = self.gru(output, hidden)\n",
    "        output = self.softmax(self.out(output[0]))\n",
    "        return output, hidden\n",
    "\n",
    "    def initHidden(self):\n",
    "        return torch.zeros(1, 1, self.hidden_size, device=device)"
   ]
  },
  {
   "cell_type": "markdown",
   "metadata": {
    "id": "gJTli8NHMI91"
   },
   "source": [
    "<div class=\"alert alert-info\"><h4>Note</h4><p>There are other forms of attention that work around the length\n",
    "  limitation by using a relative position approach. Read about \"local\n",
    "  attention\" in `Effective Approaches to Attention-based Neural Machine\n",
    "  Translation <https://arxiv.org/abs/1508.04025>`__.</p></div>\n",
    "\n",
    "Training\n",
    "========\n",
    "\n",
    "Preparing Training Data\n",
    "-----------------------\n",
    "\n",
    "To train, for each pair we will need an input tensor (indexes of the\n",
    "words in the input sentence) and target tensor (indexes of the words in\n",
    "the target sentence). While creating these vectors we will append the\n",
    "EOS token to both sequences.\n",
    "\n",
    "\n"
   ]
  },
  {
   "cell_type": "code",
   "execution_count": 14,
   "metadata": {
    "id": "WrWHiE1RLtCz"
   },
   "outputs": [],
   "source": [
    "def indexesFromSentence(lang, sentence):\n",
    "    return [lang.word2index[word] for word in sentence.split(' ')]\n",
    "\n",
    "\n",
    "def tensorFromSentence(lang, sentence):\n",
    "    indexes = indexesFromSentence(lang, sentence)\n",
    "    indexes.append(EOS_token)\n",
    "    return torch.tensor(indexes, dtype=torch.long, device=device).view(-1, 1)\n",
    "\n",
    "\n",
    "def tensorsFromPair(pair):\n",
    "    input_tensor = tensorFromSentence(input_lang, pair[0])\n",
    "    target_tensor = tensorFromSentence(output_lang, pair[1])\n",
    "    return (input_tensor, target_tensor)"
   ]
  },
  {
   "cell_type": "markdown",
   "metadata": {
    "id": "0-s0fPrIMI99"
   },
   "source": [
    "Training the Model\n",
    "------------------\n",
    "\n",
    "To train we run the input sentence through the encoder, and keep track\n",
    "of every output and the latest hidden state. Then the decoder is given\n",
    "the ``<SOS>`` token as its first input, and the last hidden state of the\n",
    "encoder as its first hidden state.\n",
    "\n",
    "\"Teacher forcing\" is the concept of using the real target outputs as\n",
    "each next input, instead of using the decoder's guess as the next input.\n",
    "Using teacher forcing causes it to converge faster but `when the trained\n",
    "network is exploited, it may exhibit\n",
    "instability <http://minds.jacobs-university.de/sites/default/files/uploads/papers/ESNTutorialRev.pdf>`__.\n",
    "\n",
    "You can observe outputs of teacher-forced networks that read with\n",
    "coherent grammar but wander far from the correct translation -\n",
    "intuitively it has learned to represent the output grammar and can \"pick\n",
    "up\" the meaning once the teacher tells it the first few words, but it\n",
    "has not properly learned how to create the sentence from the translation\n",
    "in the first place.\n",
    "\n",
    "Because of the freedom PyTorch's autograd gives us, we can randomly\n",
    "choose to use teacher forcing or not with a simple if statement. Turn\n",
    "``teacher_forcing_ratio`` up to use more of it.\n",
    "\n",
    "\n"
   ]
  },
  {
   "cell_type": "code",
   "execution_count": 15,
   "metadata": {
    "id": "CvKmiwlnLtFf"
   },
   "outputs": [],
   "source": [
    "teacher_forcing_ratio = 0.5\n",
    "\n",
    "def train(input_tensor, target_tensor, encoder, decoder, encoder_optimizer, decoder_optimizer, criterion, max_length=MAX_LENGTH):\n",
    "    encoder_hidden = encoder.initHidden()\n",
    "\n",
    "    encoder_optimizer.zero_grad()\n",
    "    decoder_optimizer.zero_grad()\n",
    "\n",
    "    input_length = input_tensor.size(0)\n",
    "    target_length = target_tensor.size(0)\n",
    "\n",
    "    encoder_outputs = torch.zeros(max_length, encoder.hidden_size, device=device)\n",
    "\n",
    "    loss = 0\n",
    "\n",
    "    for ei in range(input_length):\n",
    "        encoder_output, encoder_hidden = encoder(\n",
    "            input_tensor[ei], encoder_hidden)\n",
    "        encoder_outputs[ei] = encoder_output[0, 0]\n",
    "\n",
    "    decoder_input = torch.tensor([[SOS_token]], device=device)\n",
    "\n",
    "    decoder_hidden = encoder_hidden\n",
    "\n",
    "    use_teacher_forcing = True if random.random() < teacher_forcing_ratio else False\n",
    "\n",
    "    if use_teacher_forcing:\n",
    "        # Teacher forcing: Feed the target as the next input\n",
    "        for di in range(target_length):\n",
    "            decoder_output, decoder_hidden = decoder(\n",
    "                decoder_input, decoder_hidden)\n",
    "            loss += criterion(decoder_output, target_tensor[di])\n",
    "            decoder_input = target_tensor[di]  # Teacher forcing\n",
    "\n",
    "    else:\n",
    "        # Without teacher forcing: use its own predictions as the next input\n",
    "        for di in range(target_length):\n",
    "            decoder_output, decoder_hidden = decoder(\n",
    "                decoder_input, decoder_hidden)\n",
    "            topv, topi = decoder_output.topk(1)\n",
    "            decoder_input = topi.squeeze().detach()  # detach from history as input\n",
    "\n",
    "            loss += criterion(decoder_output, target_tensor[di])\n",
    "            if decoder_input.item() == EOS_token:\n",
    "                break\n",
    "\n",
    "    loss.backward()\n",
    "\n",
    "    encoder_optimizer.step()\n",
    "    decoder_optimizer.step()\n",
    "\n",
    "    return loss.item() / target_length"
   ]
  },
  {
   "cell_type": "markdown",
   "metadata": {
    "id": "fxwlsYBxMI-A"
   },
   "source": [
    "This is a helper function to print time elapsed and estimated time\n",
    "remaining given the current time and progress %.\n",
    "\n",
    "\n"
   ]
  },
  {
   "cell_type": "code",
   "execution_count": 16,
   "metadata": {
    "id": "4Wb3PO24LwhG"
   },
   "outputs": [],
   "source": [
    "import time\n",
    "import math\n",
    "\n",
    "\n",
    "def asMinutes(s):\n",
    "    m = math.floor(s / 60)\n",
    "    s -= m * 60\n",
    "    return '%dm %ds' % (m, s)\n",
    "\n",
    "\n",
    "def timeSince(since, percent):\n",
    "    now = time.time()\n",
    "    s = now - since\n",
    "    es = s / (percent)\n",
    "    rs = es - s\n",
    "    return '%s (- %s)' % (asMinutes(s), asMinutes(rs))"
   ]
  },
  {
   "cell_type": "markdown",
   "metadata": {
    "id": "lu_oDmPEMI-D"
   },
   "source": [
    "The whole training process looks like this:\n",
    "\n",
    "-  Start a timer\n",
    "-  Initialize optimizers and criterion\n",
    "-  Create set of training pairs\n",
    "-  Start empty losses array for plotting\n",
    "\n",
    "Then we call ``train`` many times and occasionally print the progress (%\n",
    "of examples, time so far, estimated time) and average loss.\n",
    "\n",
    "\n"
   ]
  },
  {
   "cell_type": "code",
   "execution_count": 17,
   "metadata": {
    "id": "7mPu4xWzLx-O"
   },
   "outputs": [],
   "source": [
    "def trainIters(encoder, decoder, epochs, print_every=1000, plot_every=100, learning_rate=0.01):\n",
    "    start = time.time()\n",
    "    plot_losses = []\n",
    "    print_loss_total = 0  # Reset every print_every\n",
    "    plot_loss_total = 0  # Reset every plot_every\n",
    "\n",
    "    encoder_optimizer = optim.SGD(encoder.parameters(), lr=learning_rate)\n",
    "    decoder_optimizer = optim.SGD(decoder.parameters(), lr=learning_rate)\n",
    "\n",
    "    criterion = nn.NLLLoss()\n",
    "\n",
    "    iter = 1\n",
    "    n_iters = len(train_pairs) * epochs\n",
    "\n",
    "    for epoch in range(epochs):\n",
    "        print(\"Epoch: %d/%d\" % (epoch, epochs))\n",
    "        for training_pair in train_pairs:\n",
    "            training_pair = tensorsFromPair(training_pair)\n",
    "\n",
    "            input_tensor = training_pair[0]\n",
    "            target_tensor = training_pair[1]\n",
    "\n",
    "            loss = train(input_tensor, target_tensor, encoder,\n",
    "                        decoder, encoder_optimizer, decoder_optimizer, criterion)\n",
    "            print_loss_total += loss\n",
    "            plot_loss_total += loss\n",
    "\n",
    "            if iter % print_every == 0:\n",
    "                print_loss_avg = print_loss_total / print_every\n",
    "                print_loss_total = 0\n",
    "                print('%s (%d %d%%) %.4f' % (timeSince(start, iter / n_iters),\n",
    "                                            iter, iter / n_iters * 100, print_loss_avg))\n",
    "\n",
    "            iter +=1"
   ]
  },
  {
   "cell_type": "markdown",
   "metadata": {
    "id": "-s52RCR0MI-K",
    "jp-MarkdownHeadingCollapsed": true
   },
   "source": [
    "Evaluation\n",
    "==========\n",
    "\n",
    "Evaluation is mostly the same as training, but there are no targets so\n",
    "we simply feed the decoder's predictions back to itself for each step.\n",
    "Every time it predicts a word we add it to the output string, and if it\n",
    "predicts the EOS token we stop there. We also store the decoder's\n",
    "attention outputs for display later.\n",
    "\n",
    "\n"
   ]
  },
  {
   "cell_type": "code",
   "execution_count": 18,
   "metadata": {
    "id": "tCrTcoH0L04g"
   },
   "outputs": [],
   "source": [
    "def evaluate(encoder, decoder, sentence, max_length=MAX_LENGTH):\n",
    "    with torch.no_grad():\n",
    "        input_tensor = tensorFromSentence(input_lang, sentence)\n",
    "        input_length = input_tensor.size()[0]\n",
    "        encoder_hidden = encoder.initHidden()\n",
    "\n",
    "        encoder_outputs = torch.zeros(max_length, encoder.hidden_size, device=device)\n",
    "\n",
    "        for ei in range(input_length):\n",
    "            encoder_output, encoder_hidden = encoder(input_tensor[ei],\n",
    "                                                     encoder_hidden)\n",
    "            encoder_outputs[ei] += encoder_output[0, 0]\n",
    "\n",
    "        decoder_input = torch.tensor([[SOS_token]], device=device)  # SOS\n",
    "\n",
    "        decoder_hidden = encoder_hidden\n",
    "\n",
    "        decoded_words = []\n",
    "\n",
    "        for di in range(max_length):\n",
    "            decoder_output, decoder_hidden = decoder(\n",
    "                decoder_input, decoder_hidden)\n",
    "            topv, topi = decoder_output.data.topk(1)\n",
    "            if topi.item() == EOS_token:\n",
    "                decoded_words.append('<EOS>')\n",
    "                break\n",
    "            else:\n",
    "                decoded_words.append(output_lang.index2word[topi.item()])\n",
    "\n",
    "            decoder_input = topi.squeeze().detach()\n",
    "\n",
    "        return decoded_words"
   ]
  },
  {
   "cell_type": "markdown",
   "metadata": {
    "id": "9DXbiFX1MI-N"
   },
   "source": [
    "We can evaluate random sentences from the training set and print out the\n",
    "input, target, and output to make some subjective quality judgements:\n",
    "\n",
    "\n"
   ]
  },
  {
   "cell_type": "code",
   "execution_count": 19,
   "metadata": {
    "id": "XoYOvTaOL4oI"
   },
   "outputs": [],
   "source": [
    "def evaluateRandomly(encoder, decoder, n=10):\n",
    "    for i in range(n):\n",
    "        pair = random.choice(pairs)\n",
    "        print('>', pair[0])\n",
    "        print('=', pair[1])\n",
    "        output_words = evaluate(encoder, decoder, pair[0])\n",
    "        output_sentence = ' '.join(output_words)\n",
    "        print('<', output_sentence)\n",
    "        print('')"
   ]
  },
  {
   "cell_type": "code",
   "execution_count": 20,
   "metadata": {
    "id": "1DWJXsfd2q4A"
   },
   "outputs": [],
   "source": [
    "from torchmetrics.text.rouge import ROUGEScore\n",
    "from tqdm import tqdm\n",
    "import numpy as np\n",
    "\n",
    "def inference(encoder, decoder, testing_pairs):\n",
    "    input = []\n",
    "    gt = []\n",
    "    predict = []\n",
    "\n",
    "    from tqdm import tqdm\n",
    "    for i in tqdm(range(len(testing_pairs))):\n",
    "        pair = testing_pairs[i]\n",
    "        output_words = evaluate(encoder, decoder, pair[0])\n",
    "        output_sentence = ' '.join(output_words)\n",
    "\n",
    "        input.append(pair[0])\n",
    "        gt.append(pair[1])\n",
    "        predict.append(output_sentence)\n",
    "\n",
    "    return input,gt,predict\n",
    "\n",
    "\n",
    "def eval(gt, predict):\n",
    "  rouge = ROUGEScore()\n",
    "  metric_score = rouge(predict, gt)\n",
    "  print(\"=== Evaluation score - Rouge score ===\")\n",
    "  print(\"Rouge1 fmeasure:\\t\",metric_score[\"rouge1_fmeasure\"].item())\n",
    "  print(\"Rouge1 precision:\\t\",metric_score[\"rouge1_precision\"].item())\n",
    "  print(\"Rouge1 recall:  \\t\",metric_score[\"rouge1_recall\"].item())\n",
    "  print(\"Rouge2 fmeasure:\\t\",metric_score[\"rouge2_fmeasure\"].item())\n",
    "  print(\"Rouge2 precision:\\t\",metric_score[\"rouge2_precision\"].item())\n",
    "  print(\"Rouge2 recall:  \\t\",metric_score[\"rouge2_recall\"].item())\n",
    "  print(\"=====================================\")"
   ]
  },
  {
   "cell_type": "markdown",
   "metadata": {
    "id": "ppy3qh7fMI-R"
   },
   "source": [
    "Training and Evaluating\n",
    "=======================\n",
    "\n",
    "With all these helper functions in place (it looks like extra work, but\n",
    "it makes it easier to run multiple experiments) we can actually\n",
    "initialize a network and start training.\n",
    "\n",
    "Remember that the input sentences were heavily filtered. For this small\n",
    "dataset we can use relatively small networks of 256 hidden nodes and a\n",
    "single GRU layer. After about 40 minutes on a MacBook CPU we'll get some\n",
    "reasonable results.\n",
    "\n",
    ".. Note::\n",
    "   If you run this notebook you can train, interrupt the kernel,\n",
    "   evaluate, and continue training later. Comment out the lines where the\n",
    "   encoder and decoder are initialized and run ``trainIters`` again.\n",
    "\n",
    "\n"
   ]
  },
  {
   "cell_type": "code",
   "execution_count": 27,
   "metadata": {
    "colab": {
     "base_uri": "https://localhost:8080/"
    },
    "id": "bzMeJbVDL6Un",
    "outputId": "1870f238-562b-4fd2-a7d0-2d9e73d4b4a2"
   },
   "outputs": [
    {
     "name": "stdout",
     "output_type": "stream",
     "text": [
      "Epoch: 0/5\n",
      "1m 41s (- 33m 4s) (5000 4%) 3.3469\n",
      "3m 25s (- 31m 54s) (10000 9%) 2.8495\n",
      "5m 9s (- 30m 17s) (15000 14%) 2.6066\n",
      "7m 1s (- 29m 9s) (20000 19%) 2.4112\n",
      "Epoch: 1/5\n",
      "8m 47s (- 27m 27s) (25000 24%) 2.2444\n",
      "10m 32s (- 25m 41s) (30000 29%) 2.0861\n",
      "12m 15s (- 23m 50s) (35000 33%) 1.9494\n",
      "13m 59s (- 22m 3s) (40000 38%) 1.8688\n",
      "Epoch: 2/5\n",
      "15m 44s (- 20m 19s) (45000 43%) 1.7628\n",
      "17m 28s (- 18m 33s) (50000 48%) 1.6553\n",
      "19m 13s (- 16m 47s) (55000 53%) 1.5740\n",
      "20m 56s (- 15m 1s) (60000 58%) 1.5276\n",
      "Epoch: 3/5\n",
      "22m 39s (- 13m 16s) (65000 63%) 1.4264\n",
      "24m 22s (- 11m 31s) (70000 67%) 1.3750\n",
      "26m 5s (- 9m 46s) (75000 72%) 1.3184\n",
      "27m 49s (- 8m 1s) (80000 77%) 1.2648\n",
      "Epoch: 4/5\n",
      "29m 34s (- 6m 17s) (85000 82%) 1.2136\n",
      "31m 19s (- 4m 33s) (90000 87%) 1.1610\n",
      "33m 3s (- 2m 48s) (95000 92%) 1.1265\n",
      "34m 48s (- 1m 4s) (100000 97%) 1.0662\n"
     ]
    }
   ],
   "source": [
    "hidden_size = 256\n",
    "encoder1 = EncoderRNN(input_lang.n_words, hidden_size).to(device)\n",
    "decoder1 = Decoder(hidden_size, output_lang.n_words).to(device)\n",
    "\n",
    "trainIters(encoder1, decoder1, 5, print_every=5000)"
   ]
  },
  {
   "cell_type": "markdown",
   "metadata": {},
   "source": [
    "Save the ckpt and evaluate."
   ]
  },
  {
   "cell_type": "code",
   "execution_count": 32,
   "metadata": {
    "id": "gc2y_EGQUT-c"
   },
   "outputs": [
    {
     "name": "stdout",
     "output_type": "stream",
     "text": [
      "> je suis indignee .\n",
      "= i m outraged .\n",
      "< i m a cook . <EOS>\n",
      "\n",
      "> nous en avons fini ici .\n",
      "= we re finished here .\n",
      "< we re done here . <EOS>\n",
      "\n",
      "> tu triches .\n",
      "= you re cheating .\n",
      "< you re cooperating . <EOS>\n",
      "\n",
      "> nous n avions vraiment rien a perdre .\n",
      "= we really had nothing to lose .\n",
      "< we really don t have to . . <EOS>\n",
      "\n",
      "> elles sont tres grosses .\n",
      "= they are very big .\n",
      "< they are very big . <EOS>\n",
      "\n",
      "> il economise ce qu il gagne .\n",
      "= he saves what he earns .\n",
      "< he is what he what . <EOS>\n",
      "\n",
      "> vous n etes pas censee fumer ici .\n",
      "= you re not supposed to be smoking in here .\n",
      "< you re not supposed to smoke here . <EOS>\n",
      "\n",
      "> je suis desolee de ne pas t avoir cru .\n",
      "= i m sorry that i didn t believe you .\n",
      "< i m sorry that i didn you . <EOS>\n",
      "\n",
      "> je vous libere .\n",
      "= i m letting you go .\n",
      "< i m letting you go . <EOS>\n",
      "\n",
      "> j ai presque fini le rapport .\n",
      "= i m almost done with the report .\n",
      "< i m almost almost the . . <EOS>\n",
      "\n"
     ]
    }
   ],
   "source": [
    "torch.save(encoder1, 'encoder1.pt')\n",
    "torch.save(decoder1, 'decoder1.pt')\n",
    "\n",
    "evaluateRandomly(encoder1, decoder1) "
   ]
  },
  {
   "cell_type": "markdown",
   "metadata": {},
   "source": [
    "Load ckpt from saved path and evaluate"
   ]
  },
  {
   "cell_type": "code",
   "execution_count": 30,
   "metadata": {
    "id": "gc2y_EGQUT-c"
   },
   "outputs": [
    {
     "name": "stdout",
     "output_type": "stream",
     "text": [
      "> elle est peu soucieuse de la facon dont elle s habille .\n",
      "= she is careless about the way she dresses .\n",
      "< she is in the mood of her the . . <EOS>\n",
      "\n",
      "> il a l esprit ouvert .\n",
      "= he s open minded .\n",
      "< he s open minded . <EOS>\n",
      "\n",
      "> je suis sur qu il viendra .\n",
      "= i m certain that he ll come .\n",
      "< i m sure that he will be . <EOS>\n",
      "\n",
      "> je me prepare a visiter votre pays cet hiver .\n",
      "= i m looking forward to visiting your country this winter .\n",
      "< i m really looking forward this this this . <EOS>\n",
      "\n",
      "> elle est capable de tout .\n",
      "= she is capable of anything .\n",
      "< she is capable of anything . <EOS>\n",
      "\n",
      "> vous etes tres serviable .\n",
      "= you re very helpful .\n",
      "< you are very sophisticated . <EOS>\n",
      "\n",
      "> tu es terre a terre .\n",
      "= you re grounded .\n",
      "< you re grounded . <EOS>\n",
      "\n",
      "> je ne suis pas completement naif .\n",
      "= i m not completely naive .\n",
      "< i m not completely surprised . <EOS>\n",
      "\n",
      "> il voyait le suicide comme la seule issue .\n",
      "= he saw suicide as the only way out .\n",
      "< he is the only the . . . . <EOS>\n",
      "\n",
      "> elles ne sont pas encore la .\n",
      "= they re not here yet .\n",
      "< they re not here yet . <EOS>\n",
      "\n"
     ]
    }
   ],
   "source": [
    "hidden_size = 256\n",
    "encoder1 = torch.load('encoder1.pt', map_location=device, weights_only=False)\n",
    "decoder1 = torch.load('decoder1.pt', map_location=device, weights_only=False)\n",
    "\n",
    "evaluateRandomly(encoder1, decoder1) "
   ]
  },
  {
   "cell_type": "code",
   "execution_count": 31,
   "metadata": {
    "id": "mcJQDHJ2-96c"
   },
   "outputs": [
    {
     "name": "stderr",
     "output_type": "stream",
     "text": [
      "100%|██████████████████████████████████████████████████████████████████████████████| 20616/20616 [02:27<00:00, 139.73it/s]\n"
     ]
    },
    {
     "name": "stdout",
     "output_type": "stream",
     "text": [
      "=== Evaluation score - Rouge score ===\n",
      "Rouge1 fmeasure:\t 0.7224145531654358\n",
      "Rouge1 precision:\t 0.6785668134689331\n",
      "Rouge1 recall:  \t 0.7799301743507385\n",
      "Rouge2 fmeasure:\t 0.5708037614822388\n",
      "Rouge2 precision:\t 0.5262767672538757\n",
      "Rouge2 recall:  \t 0.6326560974121094\n",
      "=====================================\n"
     ]
    }
   ],
   "source": [
    "input,gt,predict = inference(encoder1, decoder1, train_pairs)\n",
    "eval(gt, predict)"
   ]
  },
  {
   "cell_type": "code",
   "execution_count": 32,
   "metadata": {
    "id": "F81S9tbV6vtL"
   },
   "outputs": [
    {
     "name": "stderr",
     "output_type": "stream",
     "text": [
      "100%|████████████████████████████████████████████████████████████████████████████████| 2291/2291 [00:15<00:00, 144.54it/s]\n"
     ]
    },
    {
     "name": "stdout",
     "output_type": "stream",
     "text": [
      "=== Evaluation score - Rouge score ===\n",
      "Rouge1 fmeasure:\t 0.6294131278991699\n",
      "Rouge1 precision:\t 0.5934481024742126\n",
      "Rouge1 recall:  \t 0.6794232726097107\n",
      "Rouge2 fmeasure:\t 0.4531964957714081\n",
      "Rouge2 precision:\t 0.4193730354309082\n",
      "Rouge2 recall:  \t 0.5024048089981079\n",
      "=====================================\n"
     ]
    }
   ],
   "source": [
    "input,gt,predict = inference(encoder1,  decoder1, test_pairs)\n",
    "eval(gt, predict)"
   ]
  },
  {
   "cell_type": "markdown",
   "metadata": {
    "id": "WuacX-OHHNnU"
   },
   "source": [
    "Task LSTM\n",
    "===========\n",
    "\n",
    "Change the GRU in Encoder and Decoder in the original code base with LSTM, run the code, and record the Rouge scores for test set"
   ]
  },
  {
   "cell_type": "markdown",
   "metadata": {},
   "source": [
    "Encoder with LSTM"
   ]
  },
  {
   "cell_type": "code",
   "execution_count": 42,
   "metadata": {},
   "outputs": [],
   "source": [
    "class EncoderLSTM(nn.Module):\n",
    "    def __init__(self, input_size, hidden_size):\n",
    "        super(EncoderLSTM, self).__init__()\n",
    "        self.hidden_size = hidden_size\n",
    "\n",
    "        self.embedding = nn.Embedding(input_size, hidden_size)\n",
    "        self.lstm = nn.LSTM(hidden_size, hidden_size)\n",
    "\n",
    "    def forward(self, input, hidden):\n",
    "        embedded = self.embedding(input).view(1, 1, -1)\n",
    "        output, (h,c) = self.lstm(input)\n",
    "        return output, h\n",
    "\n",
    "    def initHidden(self):\n",
    "        return torch.zeros(1, 1, self.hidden_size, device=device)"
   ]
  },
  {
   "cell_type": "markdown",
   "metadata": {},
   "source": [
    "Decoder with LSTM"
   ]
  },
  {
   "cell_type": "code",
   "execution_count": 43,
   "metadata": {},
   "outputs": [],
   "source": [
    "class DecoderLSTM(nn.Module):\n",
    "    def __init__(self, hidden_size, output_size):\n",
    "        super(DecoderLSTM, self).__init__()\n",
    "        self.hidden_size = hidden_size\n",
    "\n",
    "        self.embedding = nn.Embedding(output_size, hidden_size)\n",
    "        self.lstm = nn.LSTM(hidden_size, hidden_size)\n",
    "        self.out = nn.Linear(hidden_size, output_size)\n",
    "        self.softmax = nn.LogSoftmax(dim=1)\n",
    "\n",
    "    def forward(self, input, hidden):\n",
    "\n",
    "        # Your code here #\n",
    "        output = self.embedding(input).view(1, 1, -1)\n",
    "        output = F.relu(output)\n",
    "        output,(hidden, c) = self.lstm(output)\n",
    "        output = self.softmax(self.out(output[0]))\n",
    "        return output, hidden\n",
    "\n",
    "    def initHidden(self):\n",
    "        return torch.zeros(1, 1, self.hidden_size, device=device)"
   ]
  },
  {
   "cell_type": "markdown",
   "metadata": {},
   "source": [
    "Training and Evaluating"
   ]
  },
  {
   "cell_type": "code",
   "execution_count": 44,
   "metadata": {},
   "outputs": [
    {
     "name": "stdout",
     "output_type": "stream",
     "text": [
      "Epoch: 0/5\n"
     ]
    },
    {
     "ename": "ValueError",
     "evalue": "LSTM: Expected input to be 2D or 3D, got 1D instead",
     "output_type": "error",
     "traceback": [
      "\u001b[31m---------------------------------------------------------------------------\u001b[39m",
      "\u001b[31mValueError\u001b[39m                                Traceback (most recent call last)",
      "\u001b[36mCell\u001b[39m\u001b[36m \u001b[39m\u001b[32mIn[44]\u001b[39m\u001b[32m, line 5\u001b[39m\n\u001b[32m      2\u001b[39m encoder1 = EncoderLSTM(input_lang.n_words, hidden_size).to(device)\n\u001b[32m      3\u001b[39m decoder1 = DecoderLSTM(hidden_size, output_lang.n_words).to(device)\n\u001b[32m----> \u001b[39m\u001b[32m5\u001b[39m \u001b[43mtrainIters\u001b[49m\u001b[43m(\u001b[49m\u001b[43mencoder1\u001b[49m\u001b[43m,\u001b[49m\u001b[43m \u001b[49m\u001b[43mdecoder1\u001b[49m\u001b[43m,\u001b[49m\u001b[43m \u001b[49m\u001b[32;43m5\u001b[39;49m\u001b[43m,\u001b[49m\u001b[43m \u001b[49m\u001b[43mprint_every\u001b[49m\u001b[43m=\u001b[49m\u001b[32;43m5000\u001b[39;49m\u001b[43m)\u001b[49m\n",
      "\u001b[36mCell\u001b[39m\u001b[36m \u001b[39m\u001b[32mIn[17]\u001b[39m\u001b[32m, line 23\u001b[39m, in \u001b[36mtrainIters\u001b[39m\u001b[34m(encoder, decoder, epochs, print_every, plot_every, learning_rate)\u001b[39m\n\u001b[32m     20\u001b[39m input_tensor = training_pair[\u001b[32m0\u001b[39m]\n\u001b[32m     21\u001b[39m target_tensor = training_pair[\u001b[32m1\u001b[39m]\n\u001b[32m---> \u001b[39m\u001b[32m23\u001b[39m loss = \u001b[43mtrain\u001b[49m\u001b[43m(\u001b[49m\u001b[43minput_tensor\u001b[49m\u001b[43m,\u001b[49m\u001b[43m \u001b[49m\u001b[43mtarget_tensor\u001b[49m\u001b[43m,\u001b[49m\u001b[43m \u001b[49m\u001b[43mencoder\u001b[49m\u001b[43m,\u001b[49m\n\u001b[32m     24\u001b[39m \u001b[43m            \u001b[49m\u001b[43mdecoder\u001b[49m\u001b[43m,\u001b[49m\u001b[43m \u001b[49m\u001b[43mencoder_optimizer\u001b[49m\u001b[43m,\u001b[49m\u001b[43m \u001b[49m\u001b[43mdecoder_optimizer\u001b[49m\u001b[43m,\u001b[49m\u001b[43m \u001b[49m\u001b[43mcriterion\u001b[49m\u001b[43m)\u001b[49m\n\u001b[32m     25\u001b[39m print_loss_total += loss\n\u001b[32m     26\u001b[39m plot_loss_total += loss\n",
      "\u001b[36mCell\u001b[39m\u001b[36m \u001b[39m\u001b[32mIn[15]\u001b[39m\u001b[32m, line 17\u001b[39m, in \u001b[36mtrain\u001b[39m\u001b[34m(input_tensor, target_tensor, encoder, decoder, encoder_optimizer, decoder_optimizer, criterion, max_length)\u001b[39m\n\u001b[32m     14\u001b[39m loss = \u001b[32m0\u001b[39m\n\u001b[32m     16\u001b[39m \u001b[38;5;28;01mfor\u001b[39;00m ei \u001b[38;5;129;01min\u001b[39;00m \u001b[38;5;28mrange\u001b[39m(input_length):\n\u001b[32m---> \u001b[39m\u001b[32m17\u001b[39m     encoder_output, encoder_hidden = \u001b[43mencoder\u001b[49m\u001b[43m(\u001b[49m\n\u001b[32m     18\u001b[39m \u001b[43m        \u001b[49m\u001b[43minput_tensor\u001b[49m\u001b[43m[\u001b[49m\u001b[43mei\u001b[49m\u001b[43m]\u001b[49m\u001b[43m,\u001b[49m\u001b[43m \u001b[49m\u001b[43mencoder_hidden\u001b[49m\u001b[43m)\u001b[49m\n\u001b[32m     19\u001b[39m     encoder_outputs[ei] = encoder_output[\u001b[32m0\u001b[39m, \u001b[32m0\u001b[39m]\n\u001b[32m     21\u001b[39m decoder_input = torch.tensor([[SOS_token]], device=device)\n",
      "\u001b[36mFile \u001b[39m\u001b[32m~\\AppData\\Roaming\\Python\\Python312\\site-packages\\torch\\nn\\modules\\module.py:1739\u001b[39m, in \u001b[36mModule._wrapped_call_impl\u001b[39m\u001b[34m(self, *args, **kwargs)\u001b[39m\n\u001b[32m   1737\u001b[39m     \u001b[38;5;28;01mreturn\u001b[39;00m \u001b[38;5;28mself\u001b[39m._compiled_call_impl(*args, **kwargs)  \u001b[38;5;66;03m# type: ignore[misc]\u001b[39;00m\n\u001b[32m   1738\u001b[39m \u001b[38;5;28;01melse\u001b[39;00m:\n\u001b[32m-> \u001b[39m\u001b[32m1739\u001b[39m     \u001b[38;5;28;01mreturn\u001b[39;00m \u001b[38;5;28;43mself\u001b[39;49m\u001b[43m.\u001b[49m\u001b[43m_call_impl\u001b[49m\u001b[43m(\u001b[49m\u001b[43m*\u001b[49m\u001b[43margs\u001b[49m\u001b[43m,\u001b[49m\u001b[43m \u001b[49m\u001b[43m*\u001b[49m\u001b[43m*\u001b[49m\u001b[43mkwargs\u001b[49m\u001b[43m)\u001b[49m\n",
      "\u001b[36mFile \u001b[39m\u001b[32m~\\AppData\\Roaming\\Python\\Python312\\site-packages\\torch\\nn\\modules\\module.py:1750\u001b[39m, in \u001b[36mModule._call_impl\u001b[39m\u001b[34m(self, *args, **kwargs)\u001b[39m\n\u001b[32m   1745\u001b[39m \u001b[38;5;66;03m# If we don't have any hooks, we want to skip the rest of the logic in\u001b[39;00m\n\u001b[32m   1746\u001b[39m \u001b[38;5;66;03m# this function, and just call forward.\u001b[39;00m\n\u001b[32m   1747\u001b[39m \u001b[38;5;28;01mif\u001b[39;00m \u001b[38;5;129;01mnot\u001b[39;00m (\u001b[38;5;28mself\u001b[39m._backward_hooks \u001b[38;5;129;01mor\u001b[39;00m \u001b[38;5;28mself\u001b[39m._backward_pre_hooks \u001b[38;5;129;01mor\u001b[39;00m \u001b[38;5;28mself\u001b[39m._forward_hooks \u001b[38;5;129;01mor\u001b[39;00m \u001b[38;5;28mself\u001b[39m._forward_pre_hooks\n\u001b[32m   1748\u001b[39m         \u001b[38;5;129;01mor\u001b[39;00m _global_backward_pre_hooks \u001b[38;5;129;01mor\u001b[39;00m _global_backward_hooks\n\u001b[32m   1749\u001b[39m         \u001b[38;5;129;01mor\u001b[39;00m _global_forward_hooks \u001b[38;5;129;01mor\u001b[39;00m _global_forward_pre_hooks):\n\u001b[32m-> \u001b[39m\u001b[32m1750\u001b[39m     \u001b[38;5;28;01mreturn\u001b[39;00m \u001b[43mforward_call\u001b[49m\u001b[43m(\u001b[49m\u001b[43m*\u001b[49m\u001b[43margs\u001b[49m\u001b[43m,\u001b[49m\u001b[43m \u001b[49m\u001b[43m*\u001b[49m\u001b[43m*\u001b[49m\u001b[43mkwargs\u001b[49m\u001b[43m)\u001b[49m\n\u001b[32m   1752\u001b[39m result = \u001b[38;5;28;01mNone\u001b[39;00m\n\u001b[32m   1753\u001b[39m called_always_called_hooks = \u001b[38;5;28mset\u001b[39m()\n",
      "\u001b[36mCell\u001b[39m\u001b[36m \u001b[39m\u001b[32mIn[42]\u001b[39m\u001b[32m, line 11\u001b[39m, in \u001b[36mEncoderLSTM.forward\u001b[39m\u001b[34m(self, input, hidden)\u001b[39m\n\u001b[32m      9\u001b[39m \u001b[38;5;28;01mdef\u001b[39;00m\u001b[38;5;250m \u001b[39m\u001b[34mforward\u001b[39m(\u001b[38;5;28mself\u001b[39m, \u001b[38;5;28minput\u001b[39m, hidden):\n\u001b[32m     10\u001b[39m     embedded = \u001b[38;5;28mself\u001b[39m.embedding(\u001b[38;5;28minput\u001b[39m).view(\u001b[32m1\u001b[39m, \u001b[32m1\u001b[39m, -\u001b[32m1\u001b[39m)\n\u001b[32m---> \u001b[39m\u001b[32m11\u001b[39m     output, (h,c) = \u001b[38;5;28;43mself\u001b[39;49m\u001b[43m.\u001b[49m\u001b[43mlstm\u001b[49m\u001b[43m(\u001b[49m\u001b[38;5;28;43minput\u001b[39;49m\u001b[43m)\u001b[49m\n\u001b[32m     12\u001b[39m     \u001b[38;5;28;01mreturn\u001b[39;00m output, h\n",
      "\u001b[36mFile \u001b[39m\u001b[32m~\\AppData\\Roaming\\Python\\Python312\\site-packages\\torch\\nn\\modules\\module.py:1739\u001b[39m, in \u001b[36mModule._wrapped_call_impl\u001b[39m\u001b[34m(self, *args, **kwargs)\u001b[39m\n\u001b[32m   1737\u001b[39m     \u001b[38;5;28;01mreturn\u001b[39;00m \u001b[38;5;28mself\u001b[39m._compiled_call_impl(*args, **kwargs)  \u001b[38;5;66;03m# type: ignore[misc]\u001b[39;00m\n\u001b[32m   1738\u001b[39m \u001b[38;5;28;01melse\u001b[39;00m:\n\u001b[32m-> \u001b[39m\u001b[32m1739\u001b[39m     \u001b[38;5;28;01mreturn\u001b[39;00m \u001b[38;5;28;43mself\u001b[39;49m\u001b[43m.\u001b[49m\u001b[43m_call_impl\u001b[49m\u001b[43m(\u001b[49m\u001b[43m*\u001b[49m\u001b[43margs\u001b[49m\u001b[43m,\u001b[49m\u001b[43m \u001b[49m\u001b[43m*\u001b[49m\u001b[43m*\u001b[49m\u001b[43mkwargs\u001b[49m\u001b[43m)\u001b[49m\n",
      "\u001b[36mFile \u001b[39m\u001b[32m~\\AppData\\Roaming\\Python\\Python312\\site-packages\\torch\\nn\\modules\\module.py:1750\u001b[39m, in \u001b[36mModule._call_impl\u001b[39m\u001b[34m(self, *args, **kwargs)\u001b[39m\n\u001b[32m   1745\u001b[39m \u001b[38;5;66;03m# If we don't have any hooks, we want to skip the rest of the logic in\u001b[39;00m\n\u001b[32m   1746\u001b[39m \u001b[38;5;66;03m# this function, and just call forward.\u001b[39;00m\n\u001b[32m   1747\u001b[39m \u001b[38;5;28;01mif\u001b[39;00m \u001b[38;5;129;01mnot\u001b[39;00m (\u001b[38;5;28mself\u001b[39m._backward_hooks \u001b[38;5;129;01mor\u001b[39;00m \u001b[38;5;28mself\u001b[39m._backward_pre_hooks \u001b[38;5;129;01mor\u001b[39;00m \u001b[38;5;28mself\u001b[39m._forward_hooks \u001b[38;5;129;01mor\u001b[39;00m \u001b[38;5;28mself\u001b[39m._forward_pre_hooks\n\u001b[32m   1748\u001b[39m         \u001b[38;5;129;01mor\u001b[39;00m _global_backward_pre_hooks \u001b[38;5;129;01mor\u001b[39;00m _global_backward_hooks\n\u001b[32m   1749\u001b[39m         \u001b[38;5;129;01mor\u001b[39;00m _global_forward_hooks \u001b[38;5;129;01mor\u001b[39;00m _global_forward_pre_hooks):\n\u001b[32m-> \u001b[39m\u001b[32m1750\u001b[39m     \u001b[38;5;28;01mreturn\u001b[39;00m \u001b[43mforward_call\u001b[49m\u001b[43m(\u001b[49m\u001b[43m*\u001b[49m\u001b[43margs\u001b[49m\u001b[43m,\u001b[49m\u001b[43m \u001b[49m\u001b[43m*\u001b[49m\u001b[43m*\u001b[49m\u001b[43mkwargs\u001b[49m\u001b[43m)\u001b[49m\n\u001b[32m   1752\u001b[39m result = \u001b[38;5;28;01mNone\u001b[39;00m\n\u001b[32m   1753\u001b[39m called_always_called_hooks = \u001b[38;5;28mset\u001b[39m()\n",
      "\u001b[36mFile \u001b[39m\u001b[32m~\\AppData\\Roaming\\Python\\Python312\\site-packages\\torch\\nn\\modules\\rnn.py:1075\u001b[39m, in \u001b[36mLSTM.forward\u001b[39m\u001b[34m(self, input, hx)\u001b[39m\n\u001b[32m   1073\u001b[39m \u001b[38;5;28;01melse\u001b[39;00m:\n\u001b[32m   1074\u001b[39m     \u001b[38;5;28;01mif\u001b[39;00m \u001b[38;5;28minput\u001b[39m.dim() \u001b[38;5;129;01mnot\u001b[39;00m \u001b[38;5;129;01min\u001b[39;00m (\u001b[32m2\u001b[39m, \u001b[32m3\u001b[39m):\n\u001b[32m-> \u001b[39m\u001b[32m1075\u001b[39m         \u001b[38;5;28;01mraise\u001b[39;00m \u001b[38;5;167;01mValueError\u001b[39;00m(\n\u001b[32m   1076\u001b[39m             \u001b[33mf\u001b[39m\u001b[33m\"\u001b[39m\u001b[33mLSTM: Expected input to be 2D or 3D, got \u001b[39m\u001b[38;5;132;01m{\u001b[39;00m\u001b[38;5;28minput\u001b[39m.dim()\u001b[38;5;132;01m}\u001b[39;00m\u001b[33mD instead\u001b[39m\u001b[33m\"\u001b[39m\n\u001b[32m   1077\u001b[39m         )\n\u001b[32m   1078\u001b[39m     is_batched = \u001b[38;5;28minput\u001b[39m.dim() == \u001b[32m3\u001b[39m\n\u001b[32m   1079\u001b[39m     batch_dim = \u001b[32m0\u001b[39m \u001b[38;5;28;01mif\u001b[39;00m \u001b[38;5;28mself\u001b[39m.batch_first \u001b[38;5;28;01melse\u001b[39;00m \u001b[32m1\u001b[39m\n",
      "\u001b[31mValueError\u001b[39m: LSTM: Expected input to be 2D or 3D, got 1D instead"
     ]
    }
   ],
   "source": [
    "hidden_size = 256\n",
    "encoder1 = EncoderLSTM(input_lang.n_words, hidden_size).to(device)\n",
    "decoder1 = DecoderLSTM(hidden_size, output_lang.n_words).to(device)\n",
    "\n",
    "trainIters(encoder1, decoder1, 5, print_every=5000)"
   ]
  },
  {
   "cell_type": "code",
   "execution_count": null,
   "metadata": {},
   "outputs": [],
   "source": []
  }
 ],
 "metadata": {
  "accelerator": "GPU",
  "colab": {
   "provenance": []
  },
  "gpuClass": "standard",
  "kernelspec": {
   "display_name": "Python 3 (ipykernel)",
   "language": "python",
   "name": "python3"
  },
  "language_info": {
   "codemirror_mode": {
    "name": "ipython",
    "version": 3
   },
   "file_extension": ".py",
   "mimetype": "text/x-python",
   "name": "python",
   "nbconvert_exporter": "python",
   "pygments_lexer": "ipython3",
   "version": "3.12.3"
  }
 },
 "nbformat": 4,
 "nbformat_minor": 4
}
